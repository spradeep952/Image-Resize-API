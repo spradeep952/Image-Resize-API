{
 "cells": [
  {
   "cell_type": "code",
   "execution_count": 1,
   "id": "54d66b3b",
   "metadata": {},
   "outputs": [],
   "source": [
    "import numpy as np \n",
    "import cv2\n",
    "import os"
   ]
  },
  {
   "cell_type": "code",
   "execution_count": 2,
   "id": "ae3fe086",
   "metadata": {},
   "outputs": [],
   "source": [
    "def cropImages(filename,loc):\n",
    "    img = cv2.imread(filename)\n",
    "    gray = cv2.cvtColor(img, cv2.COLOR_BGR2GRAY)\n",
    "    th, threshed = cv2.threshold(gray, 240, 255, cv2.THRESH_BINARY_INV)\n",
    "    #print(\"Original image shape : \",img.shape)\n",
    "\n",
    "    ## (2) Morph-op to remove noise\n",
    "    kernel = cv2.getStructuringElement(cv2.MORPH_ELLIPSE, (11,11))\n",
    "    morphed = cv2.morphologyEx(threshed, cv2.MORPH_CLOSE, kernel)\n",
    "\n",
    "    ## (3) Find the max-area contour\n",
    "    cnts = cv2.findContours(morphed, cv2.RETR_EXTERNAL, cv2.CHAIN_APPROX_SIMPLE)[-2]\n",
    "    cnt = sorted(cnts, key=cv2.contourArea)[-1]\n",
    "\n",
    "    ## (4) Crop and save it\n",
    "    x,y,w,h = cv2.boundingRect(cnt)\n",
    "    img = img[y:y+h, x:x+w]\n",
    "    cv2.imwrite(save_loc,img)\n",
    "    #print(filename,save_loc)\n",
    "    \n",
    "    #print(\"Original image shape : \",img.shape)\n",
    "    return"
   ]
  },
  {
   "cell_type": "code",
   "execution_count": 3,
   "id": "95650794",
   "metadata": {},
   "outputs": [],
   "source": [
    "def rescaleImage(filename,save_loc):\n",
    "    img = cv2.imread(filename)\n",
    "    original_height, original_width, channels = img.shape\n",
    "\n",
    "    frame_width = 1000\n",
    "    frame_height = 1000\n",
    "\n",
    "    scale_up_factor = 0\n",
    "\n",
    "\n",
    "    if original_height > original_width:\n",
    "        scale_up_factor = (725) / original_height\n",
    "    else:\n",
    "        scale_up_factor = (725) / original_width\n",
    "\n",
    "    new_image_height = int(original_height * scale_up_factor)\n",
    "    new_image_width = int(original_width * scale_up_factor)\n",
    "\n",
    "    scaled_up_image = cv2.resize(img, None, fx= scale_up_factor, fy= scale_up_factor, interpolation= cv2.INTER_LINEAR)\n",
    "\n",
    "    #cv2.imshow(\"After Scale image\",scaled_up_image)\n",
    "    #cv2.waitKey(0)\n",
    "    #cv2.destroyAllWindows()\n",
    "    cv2.imwrite(save_loc,scaled_up_image)\n",
    "\n",
    "    #print(\"After crop image shape : \",img.shape,\"\\nAfter scaling image shape : \",scaled_up_image.shape)  \n",
    "    return"
   ]
  },
  {
   "cell_type": "code",
   "execution_count": 4,
   "id": "7473777d",
   "metadata": {},
   "outputs": [],
   "source": [
    "def framesImages(filename,saveloc):\n",
    "    img = cv2.imread(filename)\n",
    "    old_image_height, old_image_width, channels = img.shape\n",
    "    new_image_width = 1000\n",
    "    new_image_height = 1000\n",
    "    color = (255,255,255)\n",
    "    frame_image = np.full((new_image_height,new_image_width, channels), color, dtype=np.uint8)\n",
    "\n",
    "    # compute center offset\n",
    "    x_center = (new_image_width - old_image_width) // 2\n",
    "    y_center = (new_image_height - old_image_height) // 2\n",
    "\n",
    "    # print(\"y_center : \", y_center,\"\\nold_image_height : \",old_image_height, \"\\nx_center : \", x_center, \"\\nold_image_width : \",old_image_width)\n",
    "    # copy img image into center of result image\n",
    "    frame_image[y_center:y_center+old_image_height, \n",
    "           x_center:x_center+old_image_width] = img\n",
    "\n",
    "    # view result\n",
    "    #cv2.imshow(\"result\", result)\n",
    "    #cv2.waitKey(0)\n",
    "    #cv2.destroyAllWindows()\n",
    "    return cv2.imwrite(save_loc,frame_image)\n"
   ]
  },
  {
   "cell_type": "code",
   "execution_count": 13,
   "id": "bfd0d43b",
   "metadata": {},
   "outputs": [],
   "source": [
    "# assign directory\n",
    "open_directory = './downloaded image.jpeg'\n",
    "save_directory = './cropped_images/'\n",
    "# iterate over files in\n",
    "# that directory\n",
    "for filename in os.listdir(open_directory):\n",
    "    f = os.path.join(open_directory, filename)\n",
    "    # checking if it is a file\n",
    "    if os.path.isfile(f): \n",
    "        save_loc = save_directory+filename\n",
    "        cropImages(f,save_loc)\n",
    "        "
   ]
  },
  {
   "cell_type": "code",
   "execution_count": 31,
   "id": "a9ef9fdc",
   "metadata": {},
   "outputs": [
    {
     "data": {
      "text/plain": [
       "'16000079.jpg'"
      ]
     },
     "execution_count": 31,
     "metadata": {},
     "output_type": "execute_result"
    }
   ],
   "source": [
    "filename"
   ]
  },
  {
   "cell_type": "code",
   "execution_count": 14,
   "id": "6adfab95",
   "metadata": {},
   "outputs": [],
   "source": [
    "open_directory = './cropped_images/'\n",
    "save_directory = './rescaled_images/'\n",
    "# iterate over files in\n",
    "# that directory\n",
    "for filename in os.listdir(open_directory):\n",
    "    f = os.path.join(open_directory, filename)\n",
    "    # checking if it is a file\n",
    "    if os.path.isfile(f):\n",
    "        save_loc = save_directory+filename\n",
    "        #print(save_loc,f)\n",
    "        rescaleImage(f,save_loc)"
   ]
  },
  {
   "cell_type": "code",
   "execution_count": 15,
   "id": "4713145d",
   "metadata": {},
   "outputs": [],
   "source": [
    "# assign directory\n",
    "open_directory = './rescaled_images/'\n",
    "save_directory = './converted_images/'\n",
    "# iterate over files in\n",
    "# that directory\n",
    "for filename in os.listdir(open_directory):\n",
    "    f = os.path.join(open_directory, filename)\n",
    "    # checking if it is a file\n",
    "    if os.path.isfile(f):\n",
    "        save_loc = save_directory+filename\n",
    "        #print(save_loc,f)\n",
    "        framesImages(f,save_loc)"
   ]
  },
  {
   "cell_type": "code",
   "execution_count": null,
   "id": "d0de353d",
   "metadata": {},
   "outputs": [],
   "source": [
    "f = open('./im')"
   ]
  },
  {
   "cell_type": "code",
   "execution_count": 44,
   "id": "4c9a4038",
   "metadata": {},
   "outputs": [],
   "source": [
    "def convertImage(filename):\n",
    "    ## process for cropping the image\n",
    "    img = cv2.imread(filename)\n",
    "    gray = cv2.cvtColor(img, cv2.COLOR_BGR2GRAY)\n",
    "    th, threshed = cv2.threshold(gray, 240, 255, cv2.THRESH_BINARY_INV)\n",
    "    \n",
    "    kernel = cv2.getStructuringElement(cv2.MORPH_ELLIPSE, (11,11))\n",
    "    morphed = cv2.morphologyEx(threshed, cv2.MORPH_CLOSE, kernel)\n",
    "\n",
    "    cnts = cv2.findContours(morphed, cv2.RETR_EXTERNAL, cv2.CHAIN_APPROX_SIMPLE)[-2]\n",
    "    cnt = sorted(cnts, key=cv2.contourArea)[-1]\n",
    "\n",
    "    x,y,w,h = cv2.boundingRect(cnt)\n",
    "    img = img[y:y+h, x:x+w]\n",
    "    \n",
    "    ## process for scaling up the image to scale upto 1000*1000\n",
    "    original_height, original_width, channels = img.shape\n",
    "\n",
    "    frame_width = 1000\n",
    "    frame_height = 1000\n",
    "\n",
    "    scale_up_factor = 0\n",
    "\n",
    "\n",
    "    if original_height > original_width:\n",
    "        scale_up_factor = (725) / original_height\n",
    "    else:\n",
    "        scale_up_factor = (725) / original_width\n",
    "\n",
    "    new_image_height = int(original_height * scale_up_factor)\n",
    "    new_image_width = int(original_width * scale_up_factor)\n",
    "\n",
    "    scaled_up_image = cv2.resize(img, None, fx= scale_up_factor, fy= scale_up_factor, interpolation= cv2.INTER_LINEAR)\n",
    "\n",
    "    ## process for  framing image into 1000*1000 frame\n",
    "    old_image_height, old_image_width, channels = scaled_up_image.shape\n",
    "    new_image_width = 1000\n",
    "    new_image_height = 1000\n",
    "    color = (255,255,255)\n",
    "    frame_image = np.full((new_image_height,new_image_width, channels), color, dtype=np.uint8)\n",
    "\n",
    "    x_center = (new_image_width - old_image_width) // 2\n",
    "    y_center = (new_image_height - old_image_height) // 2\n",
    "\n",
    "    frame_image[y_center:y_center+old_image_height, \n",
    "           x_center:x_center+old_image_width] = scaled_up_image\n",
    "    \n",
    "    filename = 'convertedImages/converted_' + filename.split('/')[2]\n",
    "    print(filename)\n",
    "    print(filename=='convertedImages/converted_downloaded image.jpeg')\n",
    "    return cv2.imwrite(filename,frame_image)\n"
   ]
  },
  {
   "cell_type": "code",
   "execution_count": 45,
   "id": "d75d6cd1",
   "metadata": {},
   "outputs": [
    {
     "name": "stdout",
     "output_type": "stream",
     "text": [
      "convertedImages/converted_downloaded image.jpeg\n",
      "True\n"
     ]
    },
    {
     "data": {
      "text/plain": [
       "True"
      ]
     },
     "execution_count": 45,
     "metadata": {},
     "output_type": "execute_result"
    }
   ],
   "source": [
    "convertImage('./downloadedImages/downloaded image.jpeg')"
   ]
  },
  {
   "cell_type": "code",
   "execution_count": null,
   "id": "560068b3",
   "metadata": {},
   "outputs": [],
   "source": []
  }
 ],
 "metadata": {
  "kernelspec": {
   "display_name": "Python 3 (ipykernel)",
   "language": "python",
   "name": "python3"
  },
  "language_info": {
   "codemirror_mode": {
    "name": "ipython",
    "version": 3
   },
   "file_extension": ".py",
   "mimetype": "text/x-python",
   "name": "python",
   "nbconvert_exporter": "python",
   "pygments_lexer": "ipython3",
   "version": "3.8.3"
  }
 },
 "nbformat": 4,
 "nbformat_minor": 5
}
